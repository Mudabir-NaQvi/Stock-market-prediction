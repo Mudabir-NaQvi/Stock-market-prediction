{
 "cells": [
  {
   "cell_type": "code",
   "execution_count": 3,
   "metadata": {},
   "outputs": [
    {
     "data": {
      "text/plain": [
       "[{'May 10, 2022': 273.0},\n",
       " {'May 9, 2022': 276.4},\n",
       " {'May 6, 2022': 278.85},\n",
       " {'Jun 30, 2022': 259.0},\n",
       " {'Jun 29, 2022': 258.75},\n",
       " {'Jun 28, 2022': 259.25},\n",
       " {'Jun 27, 2022': 258.05},\n",
       " {'Jun 24, 2022': 264.34},\n",
       " {'Jun 23, 2022': 265.5},\n",
       " {'Jun 22, 2022': 265.95},\n",
       " {'Jun 21, 2022': 264.93},\n",
       " {'Jun 20, 2022': 266.4},\n",
       " {'Jun 17, 2022': 265.25},\n",
       " {'Jun 16, 2022': 261.99},\n",
       " {'Jun 15, 2022': 262.24},\n",
       " {'Jun 14, 2022': 263.2},\n",
       " {'Jun 13, 2022': 263.83},\n",
       " {'Jun 10, 2022': 264.11},\n",
       " {'Jun 9, 2022': 263.57},\n",
       " {'Jun 8, 2022': 263.97},\n",
       " {'Jun 7, 2022': 264.95},\n",
       " {'Jun 6, 2022': 264.99},\n",
       " {'Jun 3, 2022': 264.2},\n",
       " {'Jun 2, 2022': 269.0},\n",
       " {'Jun 1, 2022': 270.31},\n",
       " {'Jul 7, 2022': 253.94},\n",
       " {'Jul 6, 2022': 257.0},\n",
       " {'Jul 5, 2022': 255.0},\n",
       " {'Jul 4, 2022': 257.0},\n",
       " {'Jul 1, 2022': 258.5}]"
      ]
     },
     "execution_count": 3,
     "metadata": {},
     "output_type": "execute_result"
    }
   ],
   "source": [
    "def getData(n, company):\n",
    "    import pandas as pd\n",
    "    path=f\"D:\\Documents\\FYP\\Historical Data New (sorted)\\{company}.csv\"\n",
    "    data=pd.read_csv(path)\n",
    "    data=data.sort_values(by='TIME')\n",
    "    time=data[\"TIME\"]\n",
    "    values=data[\"HIGH\"]\n",
    "    previous_data=[]\n",
    "    for i,x in enumerate(time):\n",
    "        previous_data.append({str(time[i]):values[i]})\n",
    "    # previous_data.sort()\n",
    "    return previous_data[-n:]\n",
    "getData(30,'ENGRO')"
   ]
  },
  {
   "cell_type": "code",
   "execution_count": 10,
   "metadata": {},
   "outputs": [
    {
     "data": {
      "text/plain": [
       "1517270400000000000"
      ]
     },
     "execution_count": 10,
     "metadata": {},
     "output_type": "execute_result"
    }
   ],
   "source": [
    "import pandas as pd\n",
    "company='ENGRO'\n",
    "path=f\"G:\\FYP DATA\\Historical Data\\{company}.csv\"\n",
    "data=pd.read_csv(path)\n",
    "data=data.sort_values(by='TIME')\n",
    "time=data[\"TIME\"]\n",
    "time=pd.to_datetime(time)\n",
    "time=pd.to_numeric(time)\n",
    "time.sort_values()[1]\n",
    "\n"
   ]
  },
  {
   "cell_type": "code",
   "execution_count": 3,
   "metadata": {},
   "outputs": [],
   "source": [
    "import pandas as pd\n",
    "list_companies=['ENGRO','LUCK', 'OGDC','FFC','HBL','HUBC','PPL', 'POL','EFERT', 'MCB',\n",
    "                'UBL','DGKC','PSO','SEARL','MLCF','BAHL','MARI','TRG','ATRL','UNITY',\n",
    "                'SYS','MEBL','GHNI','PIOC','CHCC','PAEL','ISL','KAPCO' ]\n",
    "\n",
    "for company in list_companies:\n",
    "    path=f\"D:\\Documents\\FYP\\Historical Data New\\{company}.csv\"\n",
    "    data=pd.read_csv(path)\n",
    "    data['TIME']=pd.to_datetime(data['TIME'])\n",
    "    data=data.sort_values(by='TIME')\n",
    "    data.rename(columns={\"Unnamed: 0\":'index'},inplace=True)\n",
    "    data.drop(\"index\",axis=1,inplace=True)\n",
    "    path=f\"D:\\Documents\\FYP\\Historical Data New (sorted)\\{company}.csv\"\n",
    "    data.to_csv(path)"
   ]
  },
  {
   "cell_type": "code",
   "execution_count": 5,
   "metadata": {},
   "outputs": [
    {
     "data": {
      "text/plain": [
       "[{'2022-11-21': 258.95},\n",
       " {'2022-11-22': 266.5},\n",
       " {'2022-11-23': 262.75},\n",
       " {'2022-11-24': 266.01},\n",
       " {'2022-11-25': 269.89}]"
      ]
     },
     "execution_count": 5,
     "metadata": {},
     "output_type": "execute_result"
    }
   ],
   "source": [
    "def getData(n, company):\n",
    "    import pandas as pd\n",
    "    path=f\"D:\\Documents\\FYP\\Historical Data New (sorted)\\{company}.csv\"\n",
    "    data=pd.read_csv(path)\n",
    "    data=data.sort_values(by='TIME')\n",
    "    time=data[\"TIME\"][0:100]\n",
    "    values=data[\"HIGH\"][0:100]\n",
    "    previous_data=[]\n",
    "    for i,x in enumerate(time):\n",
    "        previous_data.append({str(time[i]):values[i]})\n",
    "    return previous_data[-n:]\n",
    "getData(5,'ENGRO')"
   ]
  },
  {
   "cell_type": "code",
   "execution_count": 7,
   "metadata": {},
   "outputs": [
    {
     "data": {
      "text/plain": [
       "[{'2022-10-28': 236.36},\n",
       " {'2022-10-31': 236.4},\n",
       " {'2022-11-01': 239.89},\n",
       " {'2022-11-02': 242.1},\n",
       " {'2022-11-03': 241.0},\n",
       " {'2022-11-04': 242.49},\n",
       " {'2022-11-07': 242.5},\n",
       " {'2022-11-08': 245.0},\n",
       " {'2022-11-10': 246.6},\n",
       " {'2022-11-11': 246.25},\n",
       " {'2022-11-14': 244.8},\n",
       " {'2022-11-15': 244.75},\n",
       " {'2022-11-16': 262.85},\n",
       " {'2022-11-17': 261.0},\n",
       " {'2022-11-18': 261.0},\n",
       " {'2022-11-21': 258.95},\n",
       " {'2022-11-22': 266.5},\n",
       " {'2022-11-23': 262.75},\n",
       " {'2022-11-24': 266.01},\n",
       " {'2022-11-25': 269.89},\n",
       " {'2022-11-28': 265.2},\n",
       " {'2022-11-29': 268.99},\n",
       " {'2022-11-30': 264.49},\n",
       " {'2022-12-01': 267.9},\n",
       " {'2022-12-02': 268.1},\n",
       " {'2022-12-05': 267.25},\n",
       " {'2022-12-06': 263.89},\n",
       " {'2022-12-07': 264.95},\n",
       " {'2022-12-08': 264.25},\n",
       " {'2022-12-09': 265.34}]"
      ]
     },
     "execution_count": 7,
     "metadata": {},
     "output_type": "execute_result"
    }
   ],
   "source": [
    "\n",
    "def getData(n, company,variable):\n",
    "    import pandas as pd\n",
    "    path=f\"D:\\Documents\\FYP\\Historical Data New (sorted)\\{company}.csv\"\n",
    "    data=pd.read_csv(path)\n",
    "    data=data.sort_values(by='TIME')\n",
    "    data=data[['TIME',variable]][-100:]\n",
    "    time=data[\"TIME\"]\n",
    "    values=data[variable]\n",
    "    previous_data=[]\n",
    "    for i in data.index:\n",
    "        previous_data.append({str(time[i]):values[i]})\n",
    "    return previous_data[-n:]\n",
    "getData(30,'ENGRO','HIGH')"
   ]
  },
  {
   "cell_type": "code",
   "execution_count": null,
   "metadata": {},
   "outputs": [],
   "source": [
    "\n"
   ]
  },
  {
   "cell_type": "code",
   "execution_count": 5,
   "metadata": {},
   "outputs": [
    {
     "data": {
      "text/plain": [
       "Int64Index([ 10,  11,  12,  13,  14,  15,  16,  17,  18,  19,  20,  21,  22,\n",
       "             23,  24,  25,  26,  27,  28,  29,  30,  31,  32,  33,  34,  35,\n",
       "             36,  37,  38,  39,  40,  41,  42,  43,  44,  45,  46,  47,  48,\n",
       "             49,  50,  51,  52,  53,  54,  55,  56,  57,  58,  59,  60,  61,\n",
       "             62,  63,  64,  65,  66,  67,  68,  69,  70,  71,  72,  73,  74,\n",
       "             75,  76,  77,  78,  79,  80,  81,  82,  83,  84,  85,  86,  87,\n",
       "             88,  89,  90,  91,  92,  93,  94,  95,  96,  97,  98,  99, 100,\n",
       "            101, 102, 103, 104, 105, 106, 107, 108, 109],\n",
       "           dtype='int64')"
      ]
     },
     "execution_count": 5,
     "metadata": {},
     "output_type": "execute_result"
    }
   ],
   "source": [
    "import pandas as pd\n",
    "company='ENGRO'\n",
    "variable=\"LOW\"\n",
    "path=f\"D:\\Documents\\FYP\\Historical Data New (sorted)\\{company}.csv\"\n",
    "data=pd.read_csv(path)\n",
    "data=data.sort_values(by='TIME')\n",
    "data=data[['TIME',variable]][-100:]\n",
    "index=range(0,len(data))\n",
    "data.set_index('TIME')\n",
    "# data['HIGH']\n",
    "# list(index)\n",
    "\n",
    "index=data.index\n",
    "index\n"
   ]
  },
  {
   "cell_type": "code",
   "execution_count": 16,
   "metadata": {},
   "outputs": [
    {
     "data": {
      "text/html": [
       "<div>\n",
       "<style scoped>\n",
       "    .dataframe tbody tr th:only-of-type {\n",
       "        vertical-align: middle;\n",
       "    }\n",
       "\n",
       "    .dataframe tbody tr th {\n",
       "        vertical-align: top;\n",
       "    }\n",
       "\n",
       "    .dataframe thead th {\n",
       "        text-align: right;\n",
       "    }\n",
       "</style>\n",
       "<table border=\"1\" class=\"dataframe\">\n",
       "  <thead>\n",
       "    <tr style=\"text-align: right;\">\n",
       "      <th></th>\n",
       "      <th>Unnamed: 0</th>\n",
       "      <th>TIME</th>\n",
       "      <th>OPEN</th>\n",
       "      <th>HIGH</th>\n",
       "      <th>LOW</th>\n",
       "      <th>CLOSE</th>\n",
       "      <th>VOLUME</th>\n",
       "    </tr>\n",
       "  </thead>\n",
       "  <tbody>\n",
       "    <tr>\n",
       "      <th>0</th>\n",
       "      <td>17</td>\n",
       "      <td>2022-07-01</td>\n",
       "      <td>111.01</td>\n",
       "      <td>113.50</td>\n",
       "      <td>111.01</td>\n",
       "      <td>111.99</td>\n",
       "      <td>393257</td>\n",
       "    </tr>\n",
       "    <tr>\n",
       "      <th>1</th>\n",
       "      <td>16</td>\n",
       "      <td>2022-07-04</td>\n",
       "      <td>111.50</td>\n",
       "      <td>111.50</td>\n",
       "      <td>108.39</td>\n",
       "      <td>109.89</td>\n",
       "      <td>467337</td>\n",
       "    </tr>\n",
       "    <tr>\n",
       "      <th>2</th>\n",
       "      <td>15</td>\n",
       "      <td>2022-07-05</td>\n",
       "      <td>109.80</td>\n",
       "      <td>110.00</td>\n",
       "      <td>108.80</td>\n",
       "      <td>108.85</td>\n",
       "      <td>156662</td>\n",
       "    </tr>\n",
       "    <tr>\n",
       "      <th>3</th>\n",
       "      <td>14</td>\n",
       "      <td>2022-07-06</td>\n",
       "      <td>109.28</td>\n",
       "      <td>109.50</td>\n",
       "      <td>109.00</td>\n",
       "      <td>109.27</td>\n",
       "      <td>518128</td>\n",
       "    </tr>\n",
       "    <tr>\n",
       "      <th>4</th>\n",
       "      <td>13</td>\n",
       "      <td>2022-07-07</td>\n",
       "      <td>109.49</td>\n",
       "      <td>111.50</td>\n",
       "      <td>108.85</td>\n",
       "      <td>110.53</td>\n",
       "      <td>432991</td>\n",
       "    </tr>\n",
       "    <tr>\n",
       "      <th>...</th>\n",
       "      <td>...</td>\n",
       "      <td>...</td>\n",
       "      <td>...</td>\n",
       "      <td>...</td>\n",
       "      <td>...</td>\n",
       "      <td>...</td>\n",
       "      <td>...</td>\n",
       "    </tr>\n",
       "    <tr>\n",
       "      <th>105</th>\n",
       "      <td>107</td>\n",
       "      <td>2022-12-05</td>\n",
       "      <td>102.65</td>\n",
       "      <td>102.65</td>\n",
       "      <td>101.71</td>\n",
       "      <td>101.87</td>\n",
       "      <td>127420</td>\n",
       "    </tr>\n",
       "    <tr>\n",
       "      <th>106</th>\n",
       "      <td>106</td>\n",
       "      <td>2022-12-06</td>\n",
       "      <td>101.98</td>\n",
       "      <td>102.00</td>\n",
       "      <td>100.80</td>\n",
       "      <td>101.59</td>\n",
       "      <td>833723</td>\n",
       "    </tr>\n",
       "    <tr>\n",
       "      <th>107</th>\n",
       "      <td>105</td>\n",
       "      <td>2022-12-07</td>\n",
       "      <td>101.25</td>\n",
       "      <td>102.00</td>\n",
       "      <td>101.15</td>\n",
       "      <td>101.99</td>\n",
       "      <td>601863</td>\n",
       "    </tr>\n",
       "    <tr>\n",
       "      <th>108</th>\n",
       "      <td>104</td>\n",
       "      <td>2022-12-08</td>\n",
       "      <td>102.20</td>\n",
       "      <td>102.50</td>\n",
       "      <td>101.45</td>\n",
       "      <td>102.29</td>\n",
       "      <td>145895</td>\n",
       "    </tr>\n",
       "    <tr>\n",
       "      <th>109</th>\n",
       "      <td>103</td>\n",
       "      <td>2022-12-09</td>\n",
       "      <td>102.00</td>\n",
       "      <td>102.98</td>\n",
       "      <td>101.90</td>\n",
       "      <td>102.55</td>\n",
       "      <td>1127131</td>\n",
       "    </tr>\n",
       "  </tbody>\n",
       "</table>\n",
       "<p>110 rows × 7 columns</p>\n",
       "</div>"
      ],
      "text/plain": [
       "     Unnamed: 0        TIME    OPEN    HIGH     LOW   CLOSE   VOLUME\n",
       "0            17  2022-07-01  111.01  113.50  111.01  111.99   393257\n",
       "1            16  2022-07-04  111.50  111.50  108.39  109.89   467337\n",
       "2            15  2022-07-05  109.80  110.00  108.80  108.85   156662\n",
       "3            14  2022-07-06  109.28  109.50  109.00  109.27   518128\n",
       "4            13  2022-07-07  109.49  111.50  108.85  110.53   432991\n",
       "..          ...         ...     ...     ...     ...     ...      ...\n",
       "105         107  2022-12-05  102.65  102.65  101.71  101.87   127420\n",
       "106         106  2022-12-06  101.98  102.00  100.80  101.59   833723\n",
       "107         105  2022-12-07  101.25  102.00  101.15  101.99   601863\n",
       "108         104  2022-12-08  102.20  102.50  101.45  102.29   145895\n",
       "109         103  2022-12-09  102.00  102.98  101.90  102.55  1127131\n",
       "\n",
       "[110 rows x 7 columns]"
      ]
     },
     "execution_count": 16,
     "metadata": {},
     "output_type": "execute_result"
    }
   ],
   "source": [
    "import pandas as pd\n",
    "import os\n",
    "company=\"FFC\"\n",
    "# path=os.chdir('../../Data/Historical Data New (sorted)/ENGRO.csv')\n",
    "path=f\"../../Data/Historical Data New (sorted)/{company}.csv\"\n",
    "data=pd.read_csv(path)\n",
    "data"
   ]
  },
  {
   "cell_type": "code",
   "execution_count": null,
   "metadata": {},
   "outputs": [],
   "source": []
  }
 ],
 "metadata": {
  "kernelspec": {
   "display_name": "Python 3",
   "language": "python",
   "name": "python3"
  },
  "language_info": {
   "codemirror_mode": {
    "name": "ipython",
    "version": 3
   },
   "file_extension": ".py",
   "mimetype": "text/x-python",
   "name": "python",
   "nbconvert_exporter": "python",
   "pygments_lexer": "ipython3",
   "version": "3.10.5"
  },
  "orig_nbformat": 4,
  "vscode": {
   "interpreter": {
    "hash": "d654ff688aff3455eedc780c8d45a047d854fe40ade0b99e326e6e0639f14401"
   }
  }
 },
 "nbformat": 4,
 "nbformat_minor": 2
}
